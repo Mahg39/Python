{
  "nbformat": 4,
  "nbformat_minor": 0,
  "metadata": {
    "colab": {
      "provenance": [],
      "authorship_tag": "ABX9TyNCOh9W2aJ5KPLXL+J1t6Tw"
    },
    "kernelspec": {
      "name": "python3",
      "display_name": "Python 3"
    },
    "language_info": {
      "name": "python"
    }
  },
  "cells": [
    {
      "cell_type": "code",
      "execution_count": 7,
      "metadata": {
        "colab": {
          "base_uri": "https://localhost:8080/"
        },
        "id": "tvzZsScs7saq",
        "outputId": "02530d7a-7472-4328-dffc-f251d6368250"
      },
      "outputs": [
        {
          "output_type": "stream",
          "name": "stdout",
          "text": [
            "Welcome to the unit converter (Length)!\n",
            "______________________________________\n",
            "Enter the length in meters: 456\n",
            "\n",
            "Choose the meter you want to convert to: \n",
            "To kilometer(km)\n",
            "To centimeter(cm)\n",
            "To millimeter(mm)\n",
            "Enter the number of your choice (1, 2 or 3): 1\n",
            "456.0 meters = 0.456 kilometers\n",
            "Enter the length in meters: exit\n",
            "Invalid input. Do you want to quit? (yes/no)yes\n",
            "Thank you for using the Unit Converter. Goodbye!\n"
          ]
        }
      ],
      "source": [
        "#Function to handle conversation.\n",
        "def convert_length():\n",
        "    print(\"Welcome to the unit converter (Length)!\")\n",
        "    print(\"______________________________________\")\n",
        "\n",
        "    while True:  #To keep looping\n",
        "        try:\n",
        "            #Ask the user to input the numbers of meters they want to convert\n",
        "            meters = float(input(\"Enter the length in meters: \"))\n",
        "\n",
        "            #Show the user options available for convertion\n",
        "            print(\"\\nChoose the meter you want to convert to: \")\n",
        "            print(\"To kilometer(km)\")\n",
        "            print(\"To centimeter(cm)\")\n",
        "            print(\"To millimeter(mm)\")\n",
        "\n",
        "            choice = input(\"Enter the number of your choice (1, 2 or 3): \")\n",
        "\n",
        "            #Now we process the choice using is-elif-else\n",
        "            if choice == \"1\":\n",
        "                kilometers = meters / 1000\n",
        "                print(f\"{meters} meters = {kilometers} kilometers\")\n",
        "\n",
        "            elif choice == \"2\":\n",
        "                centimeters = meters * 100\n",
        "                print(f\"{meters} meters = {centimeters} centimeters\")\n",
        "\n",
        "            elif choice == \"3\":\n",
        "                milimeters = meters * 1000\n",
        "                print(f\"{meters} meters = {milimeters} milimeters\")\n",
        "\n",
        "            else:\n",
        "                print(\"Invalid choice, please try again\")\n",
        "\n",
        "        except ValueError:\n",
        "\n",
        "            user_input = input(\"Invalid input. Do you want to quit? (yes/no)\")\n",
        "            if user_input.lower() == 'yes':\n",
        "                print(\"Thank you for using the Unit Converter. Goodbye!\")\n",
        "                break\n",
        "            else:\n",
        "                print(\"Let's try again.\")\n",
        "\n",
        "\n",
        "convert_length()\n"
      ]
    }
  ]
}
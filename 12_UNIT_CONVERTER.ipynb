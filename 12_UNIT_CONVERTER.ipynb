{
  "nbformat": 4,
  "nbformat_minor": 0,
  "metadata": {
    "colab": {
      "provenance": [],
      "authorship_tag": "ABX9TyNbyOJG1vN5HpoV3VfLwlMM"
    },
    "kernelspec": {
      "name": "python3",
      "display_name": "Python 3"
    },
    "language_info": {
      "name": "python"
    }
  },
  "cells": [
    {
      "cell_type": "code",
      "execution_count": 4,
      "metadata": {
        "colab": {
          "base_uri": "https://localhost:8080/"
        },
        "id": "tvzZsScs7saq",
        "outputId": "1fc61a90-11d0-4fb6-8de3-2497edb81ff8"
      },
      "outputs": [
        {
          "output_type": "stream",
          "name": "stdout",
          "text": [
            "Welcome to the unit converter (Length)!\n",
            "______________________________________\n",
            "Enter the length in meters: 765\n",
            "\n",
            "Choose the meter you want to convert to: \n",
            "To kilometer(km)\n",
            "To centimeter(cm)\n",
            "To millimeter(mm)\n",
            "Enter the number of your choice (1, 2 or 3): 3\n",
            "765.0 meters = 765000.0 milimeters\n"
          ]
        }
      ],
      "source": [
        "#Function to handle conversation.\n",
        "def convert_length():\n",
        "    print(\"Welcome to the unit converter (Length)!\")\n",
        "    print(\"______________________________________\")\n",
        "\n",
        "    #Ask the user to input the numbers of meters they want to convert\n",
        "    meters = float(input(\"Enter the length in meters: \"))\n",
        "\n",
        "    #Show the user options available for convertion\n",
        "    print(\"\\nChoose the meter you want to convert to: \")\n",
        "    print(\"To kilometer(km)\")\n",
        "    print(\"To centimeter(cm)\")\n",
        "    print(\"To millimeter(mm)\")\n",
        "\n",
        "    choice = input(\"Enter the number of your choice (1, 2 or 3): \")\n",
        "\n",
        "    #Now we process the choice using is-elif-else\n",
        "    if choice == \"1\":\n",
        "        kilometers = meters / 1000\n",
        "        print(f\"{meters} meters = {kilometers} kilometers\")\n",
        "\n",
        "    elif choice == \"2\":\n",
        "        centimeters = meters * 100\n",
        "        print(f\"{meters} meters = {centimeters} centimeters\")\n",
        "\n",
        "    elif choice == \"3\":\n",
        "        milimeters = meters * 1000\n",
        "        print(f\"{meters} meters = {milimeters} milimeters\")\n",
        "\n",
        "    else:\n",
        "        print(\"Invalid choice, please try again\")\n",
        "\n",
        "\n",
        "convert_length()\n"
      ]
    }
  ]
}
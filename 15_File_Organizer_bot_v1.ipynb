{
  "nbformat": 4,
  "nbformat_minor": 0,
  "metadata": {
    "colab": {
      "provenance": [],
      "authorship_tag": "ABX9TyPCmMPLhShESAz0ScrTG+Z2"
    },
    "kernelspec": {
      "name": "python3",
      "display_name": "Python 3"
    },
    "language_info": {
      "name": "python"
    }
  },
  "cells": [
    {
      "cell_type": "code",
      "execution_count": null,
      "metadata": {
        "id": "XECQiKHvqkKd",
        "colab": {
          "base_uri": "https://localhost:8080/"
        },
        "outputId": "bb2d32bf-135b-4d5d-ef67-2e897ed4a9e3"
      },
      "outputs": [
        {
          "output_type": "stream",
          "name": "stdout",
          "text": [
            "Organizing folder: /content\n",
            "Detected extension: .txt\n",
            "Moving: notes.txt --> TextFiles/\n",
            "Detected extension: .py\n",
            "Moving: script.py --> Scripts/\n",
            "Detected extension: .zip\n",
            "Moving: archive.zip --> Archives/\n",
            "Detected extension: .jpg\n",
            "Moving: image1.jpg --> Images/\n",
            "Detected extension: .pdf\n",
            "Moving: doc1.pdf --> Documents/\n",
            "Done organizing!\n"
          ]
        }
      ],
      "source": [
        "import os\n",
        "import shutil\n",
        "from pathlib import Path\n",
        "\n",
        "sample_files = [\n",
        "    'image1.jpg', 'doc1.pdf', 'notes.txt', 'script.py', 'archive.zip'\n",
        "]\n",
        "\n",
        "for filename in sample_files:\n",
        "    Path(filename).touch()  #touch() creates an empty file\n",
        "\n",
        "#Define catagories and what file belong to them\n",
        "EXTENSION_CATEGORIES = {\n",
        "    'Images': ['.jpg','.jpeg', '.png', '.gif'],\n",
        "    'Documents': ['.doc', '.docx', '.pdf'],\n",
        "    'TextFiles': ['.txt', '.md'],\n",
        "    'Scripts': ['.py', '.js', '.sh'],\n",
        "    'Archives': ['.zip', '.rar', '.tar', '.gz'],\n",
        "    'Others': []\n",
        "}\n",
        "\n",
        "TARGET_FOLDER = Path.cwd()\n",
        "\n",
        "def get_category(extension):\n",
        "    extension = extension.lower().strip()\n",
        "    for category, extensions in EXTENSION_CATEGORIES.items():\n",
        "        if extension in extensions:     # Check if this extension matches one in the list\n",
        "            return category\n",
        "    print(f\"[DEBUG] Unmatched extension: {extension}\")\n",
        "    return 'Others'\n",
        "\n",
        "\n",
        "#Core function to organize files inside the folder\n",
        "def organize_folder(folder_path):\n",
        "    for item in folder_path.iterdir():  #iterdir lists files and folders in the path\n",
        "        if item.is_file():  #Only files, ignore folders\n",
        "            ext = item.suffix\n",
        "            print(f\"Detected extension: {ext}\")  #see what it's detecting\n",
        "            category = get_category(ext)    #Figure out where this file belongs\n",
        "\n",
        "            category_folder = folder_path / category\n",
        "            category_folder.mkdir(exist_ok=True) #make folder if doesn't exist\n",
        "\n",
        "            dest = category_folder / item.name  #Define the destination path for the file\n",
        "\n",
        "            print(f'Moving: {item.name} --> {category}/') #Show what's being moved\n",
        "            shutil.move(str(item), str(dest))  #Move the file to the category folder\n",
        "\n",
        "#Trigger the bot (only runs if this script is run directly)\n",
        "if __name__ == \"__main__\":\n",
        "    print(f\"Organizing folder: {TARGET_FOLDER}\")  #Show what's being organized\n",
        "    organize_folder(TARGET_FOLDER)  #Call the organizing function\n",
        "    print(\"Done organizing!\")\n",
        "\n",
        "\n",
        "\n"
      ]
    }
  ]
}
{
  "nbformat": 4,
  "nbformat_minor": 0,
  "metadata": {
    "colab": {
      "provenance": [],
      "authorship_tag": "ABX9TyM1TwC5FHjhW7fK8qEaL4bA"
    },
    "kernelspec": {
      "name": "python3",
      "display_name": "Python 3"
    },
    "language_info": {
      "name": "python"
    }
  },
  "cells": [
    {
      "cell_type": "code",
      "execution_count": 10,
      "metadata": {
        "colab": {
          "base_uri": "https://localhost:8080/"
        },
        "id": "BMMrH0lOpAEv",
        "outputId": "bcb70954-5a13-458e-da8e-3fd31d95c007"
      },
      "outputs": [
        {
          "output_type": "stream",
          "name": "stdout",
          "text": [
            "Hi User, Welcome to Calculator!\n",
            "Enter the first number 4\n",
            "Enter the second number 6\n",
            "what do you want to do to these numbers (,+,-,* or /)g\n",
            "Invalid operation, Please try again with +-*/ operations!\n"
          ]
        }
      ],
      "source": [
        "print(\"Hi User, Welcome to Calculator!\")  #Greeting\n",
        "\n",
        "num1 = float(input(\"Enter the first number \"))  #First number\n",
        "num2 = float(input(\"Enter the second number \"))  #Second number\n",
        "\n",
        "operation = input(\"what do you want to do to these numbers (,+,-,* or /)\")  #Operations\n",
        "\n",
        "#Handling the Adding operation\n",
        "if operation == \"+\":\n",
        "    result = num1 + num2\n",
        "    print(\"result = \", result)\n",
        "\n",
        "#Handling the Substraction operation\n",
        "elif operation == \"-\":\n",
        "    result = num1 - num2\n",
        "    print(\"result= \", result)\n",
        "\n",
        "#Handling the Multipication operation\n",
        "elif operation == \"*\":\n",
        "    result = num1 * num2\n",
        "    print(\"result= \", result)\n",
        "\n",
        "#Handling the Division operation\n",
        "elif operation == \"/\":\n",
        "    if num2 == \"0\":\n",
        "        print(\"Error: cannot drive by Zero\")\n",
        "\n",
        "    else:\n",
        "        result = num1 / num2\n",
        "        print(\"Result= \", result)\n",
        "\n",
        "else:\n",
        "    print(\"Invalid operation, Please try again with +-*/ operations!\")\n",
        "\n"
      ]
    }
  ]
}
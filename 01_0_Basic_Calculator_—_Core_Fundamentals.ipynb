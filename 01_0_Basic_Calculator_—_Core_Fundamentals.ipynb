{
  "nbformat": 4,
  "nbformat_minor": 0,
  "metadata": {
    "colab": {
      "provenance": [],
      "authorship_tag": "ABX9TyPcMZvIcEMNtP4Xh6Qv89PY"
    },
    "kernelspec": {
      "name": "python3",
      "display_name": "Python 3"
    },
    "language_info": {
      "name": "python"
    }
  },
  "cells": [
    {
      "cell_type": "code",
      "execution_count": 18,
      "metadata": {
        "colab": {
          "base_uri": "https://localhost:8080/"
        },
        "id": "BMMrH0lOpAEv",
        "outputId": "8bf6ade6-fe08-4691-debe-a63f12ed07a8"
      },
      "outputs": [
        {
          "output_type": "stream",
          "name": "stdout",
          "text": [
            "Hi User!\n",
            "Enter the first number: 1\n",
            "Enter the second number: 1\n",
            "Enter operation (+, -, * or /)+\n",
            "Result =  2.0\n"
          ]
        }
      ],
      "source": [
        "print(\"Hi User!\")  #Greeting Users\n",
        "\n",
        "number1 = float(input(\"Enter the first number: \"))  #Ask user number1\n",
        "number2 = float(input(\"Enter the second number: \"))  #Ask user number2\n",
        "\n",
        "operation = input(\"Enter operation (+, -, * or /)\")  #Taking the operation\n",
        "\n",
        "#Handling the Addition operation\n",
        "if operation == \"+\":\n",
        "    result = number1 + number2\n",
        "    print(\"Result = \", result)\n",
        "\n",
        "#Handling the Subtruction operation\n",
        "elif operation == \"-\":\n",
        "    result = number1 - number2\n",
        "    print(\"Result = \", result)\n",
        "\n",
        "#Handling the Multiplication operation\n",
        "elif operation == \"*\":\n",
        "    result = number1 * number2\n",
        "    print(\"Result = \", result)\n",
        "\n",
        "#Handling the Division operation\n",
        "elif operation == \"/\":\n",
        "    if number2 == \"0\":\n",
        "        print(\"Error\")\n",
        "    else:\n",
        "        result = number1 / number2\n",
        "        print(\"Result = \",result)\n",
        "\n",
        "else:\n",
        "    print(\"Error, please try using (+-*/) operations!\")\n",
        "\n",
        "\n",
        "\n"
      ]
    }
  ]
}
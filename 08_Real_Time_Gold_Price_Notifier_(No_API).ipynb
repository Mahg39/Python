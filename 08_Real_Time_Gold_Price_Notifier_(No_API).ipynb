{
  "nbformat": 4,
  "nbformat_minor": 0,
  "metadata": {
    "colab": {
      "provenance": [],
      "authorship_tag": "ABX9TyMxDm3LY4Vs6sGx9UKFt5t+"
    },
    "kernelspec": {
      "name": "python3",
      "display_name": "Python 3"
    },
    "language_info": {
      "name": "python"
    }
  },
  "cells": [
    {
      "cell_type": "code",
      "execution_count": 1,
      "metadata": {
        "id": "D-_dGaCfYayk",
        "colab": {
          "base_uri": "https://localhost:8080/"
        },
        "outputId": "10f1f309-1d4c-42a9-a87b-43cb1e77b088"
      },
      "outputs": [
        {
          "output_type": "stream",
          "name": "stdout",
          "text": [
            "Webpage successfully fetched!\n",
            "! couldn't find the gold price on the page.\n"
          ]
        }
      ],
      "source": [
        "import requests   # To fetch data from the web\n",
        "from bs4 import BeautifulSoup   # To parse and extract HTML elements\n",
        "\n",
        "# URL that shows the gold price\n",
        "url = \"https://www.livecharts.co.uk/MarketCharts/gold.php\"\n",
        "\n",
        "# Send a Get request to fetch the page content\n",
        "response = requests.get(url)\n",
        "\n",
        "# Check if the request was successful\n",
        "if response.status_code == 200:\n",
        "    print(\"Webpage successfully fetched!\")\n",
        "else:\n",
        "    print(f\"Failed to load page. status code: {response.status_code}\")\n",
        "\n",
        "# Parse the HTML content using Beautifulsoup\n",
        "soup = BeautifulSoup(response.content, \"html.parser\")\n",
        "\n",
        "# Find the gold price from the HTML (live value is inside an element with id='lc-livetop')\n",
        "price_tag = soup.find(\"span\", {\"id\": \"lc-livetop\"})\n",
        "\n",
        "# Check and extract the gold price text\n",
        "if price_tag:\n",
        "    gold_price = price_tag.text.strip()\n",
        "    print(f\"Current Gold Price (XAUUSD): {gold_price}\")\n",
        "else:\n",
        "    print(\"! couldn't find the gold price on the page.\")\n",
        "\n",
        "\n",
        "\n",
        "\n"
      ]
    }
  ]
}
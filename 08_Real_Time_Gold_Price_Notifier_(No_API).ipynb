{
  "nbformat": 4,
  "nbformat_minor": 0,
  "metadata": {
    "colab": {
      "provenance": [],
      "authorship_tag": "ABX9TyOqw2TwcZq4/Js5s6Ue2U8c"
    },
    "kernelspec": {
      "name": "python3",
      "display_name": "Python 3"
    },
    "language_info": {
      "name": "python"
    }
  },
  "cells": [
    {
      "cell_type": "code",
      "source": [
        "# install Selenium for browser automation (lets Python control a browser)\n",
        "!pip install selenium webdriver-manager\n",
        "\n",
        "# Update system packages to avoid issues while installing ChromeDriver\n",
        "!apt-get update > /dev/null\n",
        "!apt install chromium-chromedriver > /dev/null\n",
        "\n",
        "# Copy the ChromeDriver to a location where python expects it to be\n",
        "!cp /usr/lib/chromium-browser/chromedriver /usr/bin"
      ],
      "metadata": {
        "id": "gDLhESqxsRUR",
        "colab": {
          "base_uri": "https://localhost:8080/"
        },
        "outputId": "b8a45fae-7b5a-43b1-ebf2-82d0c2835592"
      },
      "execution_count": 6,
      "outputs": [
        {
          "output_type": "stream",
          "name": "stdout",
          "text": [
            "Requirement already satisfied: selenium in /usr/local/lib/python3.11/dist-packages (4.31.0)\n",
            "Requirement already satisfied: webdriver-manager in /usr/local/lib/python3.11/dist-packages (4.0.2)\n",
            "Requirement already satisfied: urllib3<3,>=1.26 in /usr/local/lib/python3.11/dist-packages (from urllib3[socks]<3,>=1.26->selenium) (2.3.0)\n",
            "Requirement already satisfied: trio~=0.17 in /usr/local/lib/python3.11/dist-packages (from selenium) (0.29.0)\n",
            "Requirement already satisfied: trio-websocket~=0.9 in /usr/local/lib/python3.11/dist-packages (from selenium) (0.12.2)\n",
            "Requirement already satisfied: certifi>=2021.10.8 in /usr/local/lib/python3.11/dist-packages (from selenium) (2025.1.31)\n",
            "Requirement already satisfied: typing_extensions~=4.9 in /usr/local/lib/python3.11/dist-packages (from selenium) (4.13.1)\n",
            "Requirement already satisfied: websocket-client~=1.8 in /usr/local/lib/python3.11/dist-packages (from selenium) (1.8.0)\n",
            "Requirement already satisfied: requests in /usr/local/lib/python3.11/dist-packages (from webdriver-manager) (2.32.3)\n",
            "Requirement already satisfied: python-dotenv in /usr/local/lib/python3.11/dist-packages (from webdriver-manager) (1.1.0)\n",
            "Requirement already satisfied: packaging in /usr/local/lib/python3.11/dist-packages (from webdriver-manager) (24.2)\n",
            "Requirement already satisfied: attrs>=23.2.0 in /usr/local/lib/python3.11/dist-packages (from trio~=0.17->selenium) (25.3.0)\n",
            "Requirement already satisfied: sortedcontainers in /usr/local/lib/python3.11/dist-packages (from trio~=0.17->selenium) (2.4.0)\n",
            "Requirement already satisfied: idna in /usr/local/lib/python3.11/dist-packages (from trio~=0.17->selenium) (3.10)\n",
            "Requirement already satisfied: outcome in /usr/local/lib/python3.11/dist-packages (from trio~=0.17->selenium) (1.3.0.post0)\n",
            "Requirement already satisfied: sniffio>=1.3.0 in /usr/local/lib/python3.11/dist-packages (from trio~=0.17->selenium) (1.3.1)\n",
            "Requirement already satisfied: wsproto>=0.14 in /usr/local/lib/python3.11/dist-packages (from trio-websocket~=0.9->selenium) (1.2.0)\n",
            "Requirement already satisfied: pysocks!=1.5.7,<2.0,>=1.5.6 in /usr/local/lib/python3.11/dist-packages (from urllib3[socks]<3,>=1.26->selenium) (1.7.1)\n",
            "Requirement already satisfied: charset-normalizer<4,>=2 in /usr/local/lib/python3.11/dist-packages (from requests->webdriver-manager) (3.4.1)\n",
            "Requirement already satisfied: h11<1,>=0.9.0 in /usr/local/lib/python3.11/dist-packages (from wsproto>=0.14->trio-websocket~=0.9->selenium) (0.14.0)\n",
            "W: Skipping acquire of configured file 'main/source/Sources' as repository 'https://r2u.stat.illinois.edu/ubuntu jammy InRelease' does not seem to provide it (sources.list entry misspelt?)\n",
            "\n",
            "WARNING: apt does not have a stable CLI interface. Use with caution in scripts.\n",
            "\n",
            "cp: '/usr/lib/chromium-browser/chromedriver' and '/usr/bin/chromedriver' are the same file\n"
          ]
        }
      ]
    },
    {
      "cell_type": "code",
      "execution_count": 8,
      "metadata": {
        "id": "D-_dGaCfYayk"
      },
      "outputs": [],
      "source": [
        "import requests\n",
        "from bs4 import BeautifulSoup\n",
        "\n",
        "# Send a GET request to a site that shows gold prices\n",
        "url = \"https://www.investing.com/commodities/gold\"\n",
        "headers = {\n",
        "    \"User-Agent\": \"Mozilla/5.0\", # Pretend to be a browser\n",
        "    \"Accept-Language\": \"en-US,en;q=0.9\" # Accept language\n",
        "}\n",
        "\n",
        "response = requests.get(url, headers=headers)\n",
        "soup = BeautifulSoup(response.content, \"html.parser\")\n",
        "\n",
        "# Try to find the price using a unique data-test attribute\n",
        "price_tag = soup.find(\"span\", atts={\"data-test\": \"instrument-price-last\"})\n",
        "\n",
        "if price_tag:\n",
        "    gold_price = price_tag.text.strip()\n",
        "    print(f\"Gold Price: {gold_price} USD\")\n",
        "else:\n",
        "    print(\"! Couldn't find the gold price on the page.\")\n",
        "\n",
        "\n",
        "\n",
        "\n",
        "\n",
        "\n",
        "\n",
        "\n",
        "\n",
        "\n",
        "\n"
      ]
    },
    {
      "cell_type": "code",
      "source": [
        "# Import the necessary module\n",
        "import sys\n",
        "sys.path.insert(0,'/usr/lib/chromium-browser/chromedriver')\n",
        "\n",
        "from selenium import webdriver  # To launch and control a browser\n",
        "from selenium.webdriver.chrome.service import Service # To create a Chrome service\n",
        "from selenium.webdriver.common.by import By # To find elements using different strategies\n",
        "from selenium.webdriver.chrome.options import Options # To set browser options (like headless mode)\n",
        "import time  # To pause the code so JS on the page can finish loading\n",
        "\n",
        "\n",
        "# Set up Chrome browser settings\n",
        "chrome_options = Options()\n",
        "chrome_options.add_argument(\"--headless\") # Run chrome in headless mode (no window)\n",
        "chrome_options.add_argument(\"--disable-dev-shm-usage\")  # Avoid shared memory issues\n",
        "chrome_options.add_argument(\"--no-sandbox\") # Bypass OS security model\n",
        "\n",
        "# Setup WebDriver\n",
        "service = Service(\"/usr/bin/chromedriver\")  # Tell selenium where to find ChromeDriver\n",
        "\n",
        "# Intialize the WebDriver\n",
        "driver = webdriver.Chrome(service=service, options=chrome_options) # Launch Chrome with our options\n",
        "\n",
        "try:\n",
        "    # Navigate to the website\n",
        "    url = (\"https://www.investing.com/commodities/gold\")\n",
        "    driver.get(url)\n",
        "\n",
        "    # Allow time for the page to load\n",
        "    time.sleep(5)\n",
        "\n",
        "    # Locate the element containing the gold price\n",
        "    price_element = driver.find_element(By.CSS_SELECTOR, 'span[data-test=\"instrument-price-last\"]')\n",
        "\n",
        "    # Extract the text (actual price)\n",
        "    if price_element:\n",
        "        gold_price = price_element.text  # Extract the text (price) from the HTML element\n",
        "        print(f\"Gold Price: {gold_price} USD\")\n",
        "    else:\n",
        "        print(\"! Couldn't find the gold price on the page.\")\n",
        "\n",
        "except Exception as e:\n",
        "    print(\"! Couldn't find the gold price on the page.\")\n",
        "    print(f\"Error: {e}\")\n",
        "\n",
        "# After scraping, always shut down the browser to free memory\n",
        "driver.quit()\n",
        "\n"
      ],
      "metadata": {
        "id": "wBP9A2EVbvMn"
      },
      "execution_count": null,
      "outputs": []
    }
  ]
}
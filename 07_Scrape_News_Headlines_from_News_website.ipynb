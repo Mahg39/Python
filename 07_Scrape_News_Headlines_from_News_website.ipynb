{
  "nbformat": 4,
  "nbformat_minor": 0,
  "metadata": {
    "colab": {
      "provenance": [],
      "authorship_tag": "ABX9TyPi4ZBAcQUIMcl+1FfzWMAt"
    },
    "kernelspec": {
      "name": "python3",
      "display_name": "Python 3"
    },
    "language_info": {
      "name": "python"
    }
  },
  "cells": [
    {
      "cell_type": "code",
      "source": [
        "!pip install requests beautifulsoup4 pandas openpyxl"
      ],
      "metadata": {
        "id": "0dWYN9qobp0f"
      },
      "execution_count": 4,
      "outputs": []
    },
    {
      "cell_type": "code",
      "source": [
        "import requests   # Import the requests library to fetch web content\n",
        "from bs4 import BeautifulSoup   # Import BeautifulSoup for HTML parsing\n",
        "import pandas as pd  # Import pandas for data manipulation and Excel handling\n",
        "\n",
        "\n",
        "# Fetch the HTML of the BBC homepage\n",
        "url = \"https://news.ycombinator.com/\" # The URL of the website to scrape\n",
        "response = requests.get(url)  # Fetch the page content using the GET method\n",
        "\n",
        "# Checking if the request was successful\n",
        "if response.status_code == 200:\n",
        "    print(\"Successfully fetched the webpage.\")\n",
        "else:\n",
        "    print(f\"Failed to retrieve the webpage. Status code: {response.status_code}\")\n",
        "\n",
        "soup = BeautifulSoup(response.text, 'html.parser') # Parse the HTML content using BeautifulSoup\n",
        "\n",
        "\n",
        "# On Hacker News, each headline is inside a <span> tag with class 'titleline'\n",
        "headlines = soup.find_all('span', class_='titleline') # Find all <a> tags with the class 'gs-c-promo-heading'\n",
        "print(f\"Found {len(headlines)} headlines.\")\n",
        "\n",
        "data = []  # Create an empty list to store the final structured data\n",
        "\n",
        "# Loop over each headline element\n",
        "for h in headlines:\n",
        "    title = h.get_text()  # Extract the visible headline text\n",
        "    link = h.find('a')['href']  # Extract the 'href' link (URL) from the <a> tag inside the <span>\n",
        "\n",
        "    # Append the text and link as a dictionary into the list\n",
        "    data.append({\"headline\": title, \"url\": link})\n",
        "\n",
        "# Convert the list of dictionaries to a pandas DataFrame (like a table)\n",
        "df = pd.DataFrame(data)\n",
        "\n",
        "print(df.head()) # Print the first 5 rows to see what we scraped\n",
        "\n",
        "df.to_excel(\"hacker_news_headlines.xlsx\", index=False)\n",
        "\n",
        "# Final confirmation message\n",
        "print(\"Saved to hacker_news_headlines.xlsx!\") # Tell the user it worked!\n",
        "\n",
        "# To download the Excel file locally\n",
        "from google.colab import files\n",
        "files.download('hacker_news_headlines.xlsx')\n",
        "\n",
        "\n"
      ],
      "metadata": {
        "id": "jby_01TVc-kV",
        "colab": {
          "base_uri": "https://localhost:8080/",
          "height": 295
        },
        "outputId": "edb812ea-889f-47f9-97a2-9fe760d7915f"
      },
      "execution_count": 4,
      "outputs": [
        {
          "output_type": "stream",
          "name": "stdout",
          "text": [
            "Successfully fetched the webpage.\n",
            "Found 30 headlines.\n",
            "                                            headline  \\\n",
            "0            LLMs understand nullability (dmodel.ai)   \n",
            "1  Decoding the 90s: Cryptography in Early Softwa...   \n",
            "2  Why Catullus Continues to Seduce Us (newyorker...   \n",
            "3  Variable duty cycle square waves with the Web ...   \n",
            "4  Show HN: Uncurl.dev – Convert curl commands to...   \n",
            "\n",
            "                                                 url  \n",
            "0              https://dmodel.ai/nullability-gentle/  \n",
            "1  https://www.botanica.software/post/decoding-th...  \n",
            "2  https://www.newyorker.com/magazine/2025/04/07/...  \n",
            "3  https://www.danblack.co/blog/variable-duty-cyc...  \n",
            "4                                https://uncurl.dev/  \n",
            "Saved to hacker_news_headlines.xlsx!\n"
          ]
        },
        {
          "output_type": "display_data",
          "data": {
            "text/plain": [
              "<IPython.core.display.Javascript object>"
            ],
            "application/javascript": [
              "\n",
              "    async function download(id, filename, size) {\n",
              "      if (!google.colab.kernel.accessAllowed) {\n",
              "        return;\n",
              "      }\n",
              "      const div = document.createElement('div');\n",
              "      const label = document.createElement('label');\n",
              "      label.textContent = `Downloading \"${filename}\": `;\n",
              "      div.appendChild(label);\n",
              "      const progress = document.createElement('progress');\n",
              "      progress.max = size;\n",
              "      div.appendChild(progress);\n",
              "      document.body.appendChild(div);\n",
              "\n",
              "      const buffers = [];\n",
              "      let downloaded = 0;\n",
              "\n",
              "      const channel = await google.colab.kernel.comms.open(id);\n",
              "      // Send a message to notify the kernel that we're ready.\n",
              "      channel.send({})\n",
              "\n",
              "      for await (const message of channel.messages) {\n",
              "        // Send a message to notify the kernel that we're ready.\n",
              "        channel.send({})\n",
              "        if (message.buffers) {\n",
              "          for (const buffer of message.buffers) {\n",
              "            buffers.push(buffer);\n",
              "            downloaded += buffer.byteLength;\n",
              "            progress.value = downloaded;\n",
              "          }\n",
              "        }\n",
              "      }\n",
              "      const blob = new Blob(buffers, {type: 'application/binary'});\n",
              "      const a = document.createElement('a');\n",
              "      a.href = window.URL.createObjectURL(blob);\n",
              "      a.download = filename;\n",
              "      div.appendChild(a);\n",
              "      a.click();\n",
              "      div.remove();\n",
              "    }\n",
              "  "
            ]
          },
          "metadata": {}
        },
        {
          "output_type": "display_data",
          "data": {
            "text/plain": [
              "<IPython.core.display.Javascript object>"
            ],
            "application/javascript": [
              "download(\"download_6fa82bf9-5a84-4c8a-99fb-a2b6b45a8438\", \"hacker_news_headlines.xlsx\", 7404)"
            ]
          },
          "metadata": {}
        }
      ]
    }
  ]
}
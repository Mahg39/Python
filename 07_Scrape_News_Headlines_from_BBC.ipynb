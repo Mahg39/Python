{
  "nbformat": 4,
  "nbformat_minor": 0,
  "metadata": {
    "colab": {
      "provenance": [],
      "authorship_tag": "ABX9TyOBotS6GmUtkxB76wQC0QNj"
    },
    "kernelspec": {
      "name": "python3",
      "display_name": "Python 3"
    },
    "language_info": {
      "name": "python"
    }
  },
  "cells": [
    {
      "cell_type": "code",
      "source": [
        "!pip install requests beautifulsoup4 pandas openpyxl"
      ],
      "metadata": {
        "colab": {
          "base_uri": "https://localhost:8080/"
        },
        "id": "0dWYN9qobp0f",
        "outputId": "df9158b8-ec1a-4a47-fe0b-f1124b115554"
      },
      "execution_count": 1,
      "outputs": [
        {
          "output_type": "stream",
          "name": "stdout",
          "text": [
            "Requirement already satisfied: requests in /usr/local/lib/python3.11/dist-packages (2.32.3)\n",
            "Requirement already satisfied: beautifulsoup4 in /usr/local/lib/python3.11/dist-packages (4.13.3)\n",
            "Requirement already satisfied: pandas in /usr/local/lib/python3.11/dist-packages (2.2.2)\n",
            "Requirement already satisfied: openpyxl in /usr/local/lib/python3.11/dist-packages (3.1.5)\n",
            "Requirement already satisfied: charset-normalizer<4,>=2 in /usr/local/lib/python3.11/dist-packages (from requests) (3.4.1)\n",
            "Requirement already satisfied: idna<4,>=2.5 in /usr/local/lib/python3.11/dist-packages (from requests) (3.10)\n",
            "Requirement already satisfied: urllib3<3,>=1.21.1 in /usr/local/lib/python3.11/dist-packages (from requests) (2.3.0)\n",
            "Requirement already satisfied: certifi>=2017.4.17 in /usr/local/lib/python3.11/dist-packages (from requests) (2025.1.31)\n",
            "Requirement already satisfied: soupsieve>1.2 in /usr/local/lib/python3.11/dist-packages (from beautifulsoup4) (2.6)\n",
            "Requirement already satisfied: typing-extensions>=4.0.0 in /usr/local/lib/python3.11/dist-packages (from beautifulsoup4) (4.13.0)\n",
            "Requirement already satisfied: numpy>=1.23.2 in /usr/local/lib/python3.11/dist-packages (from pandas) (2.0.2)\n",
            "Requirement already satisfied: python-dateutil>=2.8.2 in /usr/local/lib/python3.11/dist-packages (from pandas) (2.8.2)\n",
            "Requirement already satisfied: pytz>=2020.1 in /usr/local/lib/python3.11/dist-packages (from pandas) (2025.2)\n",
            "Requirement already satisfied: tzdata>=2022.7 in /usr/local/lib/python3.11/dist-packages (from pandas) (2025.2)\n",
            "Requirement already satisfied: et-xmlfile in /usr/local/lib/python3.11/dist-packages (from openpyxl) (2.0.0)\n",
            "Requirement already satisfied: six>=1.5 in /usr/local/lib/python3.11/dist-packages (from python-dateutil>=2.8.2->pandas) (1.17.0)\n"
          ]
        }
      ]
    },
    {
      "cell_type": "code",
      "source": [
        "import requests   # Import the requests library to fetch web content\n",
        "from bs4 import BeautifulSoup   # Import BeautifulSoup for HTML parsing\n",
        "import pandas as pd  # Import pandas for data manipulation and Excel handling\n",
        "\n",
        "\n",
        "# Fetch the HTML of the BBC homepage\n",
        "url = \"https://news.ycombinator.com/\" # The URL of the website to scrape\n",
        "response = requests.get(url)  # Fetch the page content using the GET method\n",
        "\n",
        "# Checking if the request was successful\n",
        "if response.status_code == 200:\n",
        "    print(\"Successfully fetched the webpage.\")\n",
        "else:\n",
        "    print(f\"Failed to retrieve the webpage. Status code: {response.status_code}\")\n",
        "\n",
        "soup = BeautifulSoup(response.text, 'html.parser') # Parse the HTML content using BeautifulSoup\n",
        "\n",
        "\n",
        "# On Hacker News, each headline is inside a <span> tag with class 'titleline'\n",
        "headlines = soup.find_all('span', class_='titleline') # Find all <a> tags with the class 'gs-c-promo-heading'\n",
        "print(f\"Found {len(headlines)} headlines.\")\n",
        "\n",
        "data = []  # Create an empty list to store the final structured data\n",
        "\n",
        "# Loop over each headline element\n",
        "for h in headlines:\n",
        "    title = h.get_text()  # Extract the visible headline text\n",
        "    link = h.find('a')['href']  # Extract the 'href' link (URL) from the <a> tag inside the <span>\n",
        "\n",
        "    # Append the text and link as a dictionary into the list\n",
        "    data.append({\"headline\": title, \"url\": link})\n",
        "\n",
        "# Convert the list of dictionaries to a pandas DataFrame (like a table)\n",
        "df = pd.DataFrame(data)\n",
        "\n",
        "print(df.head()) # Print the first 5 rows to see what we scraped\n",
        "\n",
        "df.to_excel(\"hacker_news_headlines.xlsx\", index=False)\n",
        "print(\"Saved to hacker_news_headlines.xlsx!\")\n",
        "\n",
        "# Final confirmation message\n",
        "print(\"Saved to hacker_news_headlines.xlsx!\") # Tell the user it worked!\n",
        "\n",
        "\n"
      ],
      "metadata": {
        "id": "jby_01TVc-kV",
        "colab": {
          "base_uri": "https://localhost:8080/"
        },
        "outputId": "81a81ab7-d7af-4558-99ff-63124644016c"
      },
      "execution_count": 9,
      "outputs": [
        {
          "output_type": "stream",
          "name": "stdout",
          "text": [
            "Successfully fetched the webpage.\n",
            "Found 30 headlines.\n",
            "                                            headline  \\\n",
            "0            LLMs understand nullability (dmodel.ai)   \n",
            "1  Decoding the 90s: Cryptography in Early Softwa...   \n",
            "2  Why Catullus Continues to Seduce Us (newyorker...   \n",
            "3  Show HN: Uncurl.dev – Convert curl commands to...   \n",
            "4  A startup doesn't need to be a unicorn (mattgi...   \n",
            "\n",
            "                                                 url  \n",
            "0              https://dmodel.ai/nullability-gentle/  \n",
            "1  https://www.botanica.software/post/decoding-th...  \n",
            "2  https://www.newyorker.com/magazine/2025/04/07/...  \n",
            "3                                https://uncurl.dev/  \n",
            "4  https://mattgiustwilliamson.substack.com/p/you...  \n",
            "Saved to hacker_news_headlines.xlsx!\n",
            "Saved to hacker_news_headlines.xlsx!\n"
          ]
        }
      ]
    }
  ]
}
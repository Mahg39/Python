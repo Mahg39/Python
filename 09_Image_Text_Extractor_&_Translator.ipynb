{
  "nbformat": 4,
  "nbformat_minor": 0,
  "metadata": {
    "colab": {
      "provenance": [],
      "authorship_tag": "ABX9TyMOZRjH55JUof3g5y5FJwSv"
    },
    "kernelspec": {
      "name": "python3",
      "display_name": "Python 3"
    },
    "language_info": {
      "name": "python"
    }
  },
  "cells": [
    {
      "cell_type": "code",
      "execution_count": 7,
      "metadata": {
        "id": "ChaNX0Fdsgiu"
      },
      "outputs": [],
      "source": [
        "!apt-get update\n",
        "!pip install pytesseract\n",
        "!apt-get install -y tesseract-ocr\n",
        "!pip install pillow\n",
        "!pip install googletrans==4.0.0rc1"
      ]
    },
    {
      "cell_type": "code",
      "source": [
        "# Import necessary libraries\n",
        "import pytesseract\n",
        "pytesseract.pytesseract.tesseract_cmd = \"/usr/bin/tesseract\"\n",
        "from PIL import Image\n",
        "import requests\n",
        "from io import BytesIO\n",
        "\n",
        "# Image URL\n",
        "image_url = 'elonpv.jpg'\n",
        "img = Image.open(image_url)\n",
        "\n",
        "# Perform OCR using Tesseract\n",
        "text = pytesseract.image_to_string(img)\n",
        "\n",
        "# Print the extracted text\n",
        "print(\"Extracted text from image:\")\n",
        "print(text)\n",
        "\n"
      ],
      "metadata": {
        "id": "KCg39rkK0EdH",
        "colab": {
          "base_uri": "https://localhost:8080/"
        },
        "outputId": "5e3cb774-eae2-4b0a-c3bf-16966115761f"
      },
      "execution_count": 7,
      "outputs": [
        {
          "output_type": "stream",
          "name": "stdout",
          "text": [
            "Extracted text from image:\n",
            " \n",
            " \n",
            "\n",
            "Constantly think about how yc\n",
            "could be doing things better.\n",
            "\f\n"
          ]
        }
      ]
    }
  ]
}
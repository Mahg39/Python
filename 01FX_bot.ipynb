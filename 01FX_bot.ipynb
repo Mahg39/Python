{
  "nbformat": 4,
  "nbformat_minor": 0,
  "metadata": {
    "colab": {
      "provenance": [],
      "authorship_tag": "ABX9TyMcZ8y8W4rjZLS+kGHq4UIu",
      "include_colab_link": true
    },
    "kernelspec": {
      "name": "python3",
      "display_name": "Python 3"
    },
    "language_info": {
      "name": "python"
    }
  },
  "cells": [
    {
      "cell_type": "markdown",
      "metadata": {
        "id": "view-in-github",
        "colab_type": "text"
      },
      "source": [
        "<a href=\"https://colab.research.google.com/github/Mahg39/Python/blob/main/01FX_bot.ipynb\" target=\"_parent\"><img src=\"https://colab.research.google.com/assets/colab-badge.svg\" alt=\"Open In Colab\"/></a>"
      ]
    },
    {
      "cell_type": "code",
      "execution_count": 2,
      "metadata": {
        "id": "mOLavdUAbTr7",
        "colab": {
          "base_uri": "https://localhost:8080/"
        },
        "outputId": "defc20be-6d28-4af5-e291-ef90a103016f"
      },
      "outputs": [
        {
          "output_type": "stream",
          "name": "stdout",
          "text": [
            "HI! i'm trading chatbot👋 Do you have questions yet\n",
            "exit\n",
            "bye!\n"
          ]
        }
      ],
      "source": [
        "def trading_chatbot():   #function defining\n",
        "  print(\"HI! i'm trading chatbot👋 Do you have questions yet\")   #print welcome\n",
        "  while True:    #start infinite loop\n",
        "    user_input = input().lower()    #taking user question\n",
        "    if user_input == \"exit\":  #if the user types exit - end it!\n",
        "      print(\"bye!\")\n",
        "      break           #will exit the loop\n",
        "\n",
        "    elif \"gold\" in user_input:   #checking if user is asking about \"GOLD\"\n",
        "      print(\"💬 Chatbot: Gold (XAUUSD) is a volatile asset. Many traders use technical analysis like support/resistance to trade it.\")\n",
        "\n",
        "    elif \"forex\" in user_input:   #checking if user is asking about \"FOREX\"\n",
        "      print(\"💬 Chatbot: Forex trading involves currency pairs like XAU/USD. It’s highly liquid and operates 24/5.\")\n",
        "\n",
        "    elif \"strategy\" in user_input:   #checking if user is asking about \"strategy\"\n",
        "      print(\"💬 Chatbot: A good strategy depends on backtesting, risk management, and discipline. What’s your current strategy?\")\n",
        "\n",
        "    elif \"risk management\" in user_input:   #checking if user is asking about \"risk management\"\n",
        "      print(\"💬 Chatbot: Proper risk management means never risking more than 1-2% per trade. Stop losses are a must!\")\n",
        "\n",
        "    elif \"breakout\" in user_input:      #checking if user is asking about \"breakout\"\n",
        "      print(\"💬 Chatbot: breakout strategy is when support or resistance broke to a new level and enter to market based on the new price movement. \")\n",
        "\n",
        "    else:      #if the user inputs about different topic\n",
        "      print(\"💬 Chatbot: I’m still learning! Try asking about gold, forex, strategy, breakout strategy, or risk management.\")\n",
        "\n",
        "\n",
        "\n",
        "trading_chatbot()  #calling the function to start the chatbot\n",
        "\n",
        "\n"
      ]
    }
  ]
}
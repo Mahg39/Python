{
  "nbformat": 4,
  "nbformat_minor": 0,
  "metadata": {
    "colab": {
      "provenance": [],
      "authorship_tag": "ABX9TyORPJwuLLCbP7nPdwR8ilju"
    },
    "kernelspec": {
      "name": "python3",
      "display_name": "Python 3"
    },
    "language_info": {
      "name": "python"
    }
  },
  "cells": [
    {
      "cell_type": "code",
      "execution_count": 2,
      "metadata": {
        "colab": {
          "base_uri": "https://localhost:8080/"
        },
        "id": "0kx_i_F5CK7O",
        "outputId": "f3ebdbb3-46fe-4b95-d84f-49c2aed8c95f"
      },
      "outputs": [
        {
          "output_type": "stream",
          "name": "stdout",
          "text": [
            "__Great Calculator\n",
            "Enter the first number: 6\n",
            "Enter the second number: 2\n",
            "Choose operations (+, -, * or /): /\n",
            "Result:  3.0\n",
            "Do you want to calculate again (yes/no): yes\n",
            "__Great Calculator\n",
            "Enter the first number: 3\n",
            "Enter the second number: 0\n",
            "Choose operations (+, -, * or /): /\n",
            "Result:  can't devide by Zero!\n",
            "Do you want to calculate again (yes/no): ee\n",
            "Exiting...\n"
          ]
        }
      ],
      "source": [
        "#Funtion to handle the math operation.\n",
        "def calculate(num1, num2, operation):\n",
        "    if operation == \"+\":\n",
        "        return num1 + num2\n",
        "    elif operation == \"-\":\n",
        "        return num1 - num2\n",
        "    elif operation == \"*\":\n",
        "        return num1 * num2\n",
        "    elif operation == \"/\":\n",
        "        if num2 == 0:\n",
        "            return \"can't devide by Zero!\"\n",
        "        else:\n",
        "            return num1 / num2\n",
        "    else:\n",
        "        return \"Invalid operation!\"\n",
        "\n",
        "#This is the main loop that keeps the calculator running..\n",
        "while True:\n",
        "    print(\"__Great Calculator\")\n",
        "\n",
        "    #Use try-except to catch invalid number inputs like letters or symbols\n",
        "    try:\n",
        "        num1 = float(input(\"Enter the first number: \"))\n",
        "        num2 = float(input(\"Enter the second number: \"))\n",
        "    except ValueError:\n",
        "        print(\"Invalid input: please enter numeric value.\")\n",
        "        continue  #Go back to the beginning of the loop\n",
        "\n",
        "    operation = input(\"Choose operations (+, -, * or /): \")\n",
        "\n",
        "    #Call the calculate() function and store the result\n",
        "    result = calculate(num1, num2, operation)\n",
        "\n",
        "    #Print the result\n",
        "    print(\"Result: \", result)\n",
        "\n",
        "    #Ask the user if they want to continue\n",
        "    again = input(\"Do you want to calculate again (yes/no): \").lower()\n",
        "    if again != \"yes\":\n",
        "        print(\"Exiting...\")\n",
        "        break\n",
        "\n",
        "\n",
        "\n",
        "\n"
      ]
    }
  ]
}
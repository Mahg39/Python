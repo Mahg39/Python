{
  "nbformat": 4,
  "nbformat_minor": 0,
  "metadata": {
    "colab": {
      "provenance": [],
      "authorship_tag": "ABX9TyNjwV09b+EraUpl2eeKnD/G"
    },
    "kernelspec": {
      "name": "python3",
      "display_name": "Python 3"
    },
    "language_info": {
      "name": "python"
    }
  },
  "cells": [
    {
      "cell_type": "code",
      "execution_count": 13,
      "metadata": {
        "id": "0kx_i_F5CK7O",
        "colab": {
          "base_uri": "https://localhost:8080/"
        },
        "outputId": "082114a7-6453-4a09-a08b-c53248ffc20a"
      },
      "outputs": [
        {
          "output_type": "stream",
          "name": "stdout",
          "text": [
            "__CALCULATOR__\n",
            "Enter number1: 1\n",
            "Enter number2: 1\n",
            "Add operation (+, -, *, /) +\n",
            "Result:  2.0\n",
            "You wanna continue? (Yes / No) yes\n",
            "__CALCULATOR__\n",
            "Enter number1: 2\n",
            "Enter number2: 0\n",
            "Add operation (+, -, *, /) /\n",
            "Result:  Error: cant divide by Zero\n",
            "You wanna continue? (Yes / No) Yes\n",
            "__CALCULATOR__\n",
            "Enter number1: e\n",
            "Invalid number: please try again!\n",
            "__CALCULATOR__\n",
            "Enter number1: 2\n",
            "Enter number2: 2\n",
            "Add operation (+, -, *, /) *\n",
            "Result:  4.0\n",
            "You wanna continue? (Yes / No) no\n",
            "Exiting...\n"
          ]
        }
      ],
      "source": [
        "#Function to handle math operation\n",
        "def calculate(number1, number2, operation):\n",
        "    if operation == \"+\":\n",
        "        return number1 + number2\n",
        "    elif operation == \"-\":\n",
        "        return number1 - number2\n",
        "    elif operation == \"*\":\n",
        "        return number1 * number2\n",
        "    elif operation == \"/\":\n",
        "        if number2 == 0:\n",
        "            return \"Error: cant divide by Zero\"\n",
        "        return number1 / number2\n",
        "    else:\n",
        "        return \"Invalid operaton: please use (+, -, *, or /)\"\n",
        "\n",
        "#To keep the loop running the calculator!\n",
        "while True:\n",
        "    print(\"__CALCULATOR__\")\n",
        "    try:\n",
        "        number1 = float(input(\"Enter number1: \"))\n",
        "        number2 = float(input(\"Enter number2: \"))\n",
        "    except ValueError:\n",
        "        print(\"Invalid number: please try again!\")\n",
        "        continue\n",
        "\n",
        "    operation = input(\"Add operation (+, -, *, /) \")\n",
        "\n",
        "    result = calculate(number1, number2, operation)\n",
        "    print(\"Result: \", result)\n",
        "\n",
        "    #Ask user if wanna continue?\n",
        "    again = input(\"You wanna continue? (Yes / No) \").lower()\n",
        "    if again != \"yes\":\n",
        "        print(\"Exiting...\")\n",
        "        break\n",
        "\n",
        "\n"
      ]
    }
  ]
}
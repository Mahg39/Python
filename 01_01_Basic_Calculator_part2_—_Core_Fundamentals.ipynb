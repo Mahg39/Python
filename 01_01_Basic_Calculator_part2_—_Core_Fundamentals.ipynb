{
  "nbformat": 4,
  "nbformat_minor": 0,
  "metadata": {
    "colab": {
      "provenance": [],
      "authorship_tag": "ABX9TyN51MihKSkKGRGkyxbSYSTo"
    },
    "kernelspec": {
      "name": "python3",
      "display_name": "Python 3"
    },
    "language_info": {
      "name": "python"
    }
  },
  "cells": [
    {
      "cell_type": "code",
      "execution_count": null,
      "metadata": {
        "id": "0kx_i_F5CK7O",
        "colab": {
          "base_uri": "https://localhost:8080/"
        },
        "outputId": "8b05b1f9-9bc0-4e84-8e95-0a781b066614"
      },
      "outputs": [
        {
          "output_type": "stream",
          "name": "stdout",
          "text": [
            "\n",
            "__CALCULATOR__\n",
            "\n",
            "Enter first number 1\n",
            "Enter second number \n",
            "Error: please enter valid number!\n",
            "Enter second number 1\n",
            "Enter operation (+,-,*,/)+\n",
            "Result:  2.0\n",
            "you wanna continue? Yes/No \n",
            "YeS\n",
            "\n",
            "__CALCULATOR__\n",
            "\n",
            "Enter first number 1\n",
            "Enter second number 0\n",
            "Enter operation (+,-,*,/)/\n",
            "Result:  Error: cant divide by Zero\n",
            "you wanna continue? Yes/No \n",
            "no\n",
            "Exiting..\n"
          ]
        }
      ],
      "source": [
        "#Function to get valid number from user\n",
        "def get_number(prompt):\n",
        "    while True: #Keep asking until valid number is given\n",
        "        try:\n",
        "            return float(input(prompt))\n",
        "        except ValueError:\n",
        "            print(\"Error: please enter valid number!\")\n",
        "\n",
        "\n",
        "#Function to get valid operation from user\n",
        "def get_operation():\n",
        "    operation = ['+', '-', '*', '/']\n",
        "    while True:\n",
        "        op = input(\"Enter operation (+,-,*,/)\")\n",
        "        if op in operation:\n",
        "            return op\n",
        "        return (\"Invalid: please enter (+,-,*,/)\")\n",
        "\n",
        "\n",
        "#Function to perform calculation\n",
        "def calculate(n1, n2, op):\n",
        "    if op == \"+\":\n",
        "        return n1 + n2\n",
        "    elif op == \"-\":\n",
        "        return n1 - n2\n",
        "    elif op == \"*\":\n",
        "        return n1 * n2\n",
        "    elif op == \"/\":\n",
        "        if n2 == 0:\n",
        "            return \"Error: cant divide by Zero\"\n",
        "        return n1 / n2\n",
        "\n",
        "\n",
        "#Function tha will run the calculator process\n",
        "def main():\n",
        "    print(\"\\n__CALCULATOR__\\n\")\n",
        "\n",
        "    num1 = get_number(\"Enter first number \")\n",
        "    num2 = get_number(\"Enter second number \")\n",
        "    operation = get_operation()\n",
        "\n",
        "    result = calculate(num1, num2, operation)\n",
        "    print(\"Result: \", result)\n",
        "\n",
        "\n",
        "#Run the calculator in loop\n",
        "while True:\n",
        "    main()\n",
        "\n",
        "    again = input(\"you wanna continue? Yes/No \\n\" ).lower()\n",
        "    if again != \"yes\":\n",
        "        print(\"Exiting..\")\n",
        "        break\n",
        "\n",
        "\n"
      ]
    }
  ]
}
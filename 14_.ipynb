{
  "nbformat": 4,
  "nbformat_minor": 0,
  "metadata": {
    "colab": {
      "provenance": [],
      "authorship_tag": "ABX9TyOgfbJnj0wUMO/XYg0BzHXr"
    },
    "kernelspec": {
      "name": "python3",
      "display_name": "Python 3"
    },
    "language_info": {
      "name": "python"
    }
  },
  "cells": [
    {
      "cell_type": "code",
      "execution_count": 4,
      "metadata": {
        "id": "4fFSfEMlz6yE",
        "colab": {
          "base_uri": "https://localhost:8080/"
        },
        "outputId": "c4286332-e5dd-4484-d07f-e517957bdb56"
      },
      "outputs": [
        {
          "output_type": "stream",
          "name": "stdout",
          "text": [
            "🔥 Work session started! Focus up and go beast mode!\n",
            "✅ Work session done! Time for a break!\n",
            "Break over! Get ready for the next round!\n"
          ]
        }
      ],
      "source": [
        "#Importing time module to control flow of time\n",
        "import time\n",
        "\n",
        "#setting the duration of work and break sessions (in minutes)\n",
        "work_minutes = 5\n",
        "break_minutes = 1\n",
        "\n",
        "#Defining a function that will handle counting down from a given number of minutes\n",
        "def countdown(minutes):\n",
        "    #First, we convert minutes into total seconds\n",
        "    seconds = minutes * 60\n",
        "\n",
        "    #start loop until no second left\n",
        "    while seconds > 0:\n",
        "        mins, secs = divmod(seconds, 60)\n",
        "\n",
        "        # This formats the timer as two digits for minutes and seconds (e.g., 02:05)\n",
        "        timer = f\"{mins:02d}:{secs:02d}\"\n",
        "\n",
        "        print(timer, end=\"\\r\")\n",
        "\n",
        "        #Sleep for one sec to create coundown effect\n",
        "        time.sleep(1)\n",
        "\n",
        "        #Afrer waiting for a sec, reduce the seconds counter by 1\n",
        "        seconds -= 1\n",
        "\n",
        "\n",
        "print(\"🔥 Work session started! Focus up and go beast mode!\")\n",
        "countdown(work_minutes)\n",
        "\n",
        "print(\"✅ Work session done! Time for a break!\")\n",
        "countdown(break_minutes)\n",
        "\n",
        "print(\"Break over! Get ready for the next round!\")\n",
        "\n"
      ]
    }
  ]
}
{
  "nbformat": 4,
  "nbformat_minor": 0,
  "metadata": {
    "colab": {
      "provenance": [],
      "authorship_tag": "ABX9TyMfex1eOB65tcNhU2bPqEnu"
    },
    "kernelspec": {
      "name": "python3",
      "display_name": "Python 3"
    },
    "language_info": {
      "name": "python"
    }
  },
  "cells": [
    {
      "cell_type": "code",
      "source": [
        "!pip install SpeechRecognition pydub ffmpeg     #Downloading speech recognition Module"
      ],
      "metadata": {
        "id": "sNqKHGidohVG"
      },
      "execution_count": null,
      "outputs": []
    },
    {
      "cell_type": "code",
      "source": [
        "import speech_recognition as sr\n",
        "\n",
        "#   (Importing the AudioSegment class from the\n",
        "#   pydub library. AudioSegment is used for\n",
        "#   handling and converting audio files in different formats.\n",
        "#   It allows us to load, modify, and export audio files,\n",
        "#   such as converting MP3 to WAV.)\n",
        "from pydub import AudioSegment\n",
        "print(\"👍 All packages installed successfully!\")\n"
      ],
      "metadata": {
        "colab": {
          "base_uri": "https://localhost:8080/"
        },
        "id": "m3XxCDuUoiR6",
        "outputId": "f0684fbe-1b5f-4a2e-fffa-d79f7f429621"
      },
      "execution_count": null,
      "outputs": [
        {
          "output_type": "stream",
          "name": "stdout",
          "text": [
            "👍 All packages installed successfully!\n"
          ]
        }
      ]
    },
    {
      "cell_type": "code",
      "source": [
        "from google.colab import files\n",
        "\n",
        "#Upload an audio file from your computer\n",
        "uploaded = files.upload()\n",
        "\n",
        "#Get the file name from uploaded files\n",
        "audio_path = list(uploaded.keys())[0]\n",
        "print(\"👍 upload file:\", audio_path)\n",
        "\n"
      ],
      "metadata": {
        "colab": {
          "base_uri": "https://localhost:8080/",
          "height": 90
        },
        "id": "cw6o48Myq_SP",
        "outputId": "b09d4f66-e89a-47aa-8848-13d8a00743b6"
      },
      "execution_count": null,
      "outputs": [
        {
          "output_type": "display_data",
          "data": {
            "text/plain": [
              "<IPython.core.display.HTML object>"
            ],
            "text/html": [
              "\n",
              "     <input type=\"file\" id=\"files-1012d8a5-1071-40c8-8b25-35869eb139cc\" name=\"files[]\" multiple disabled\n",
              "        style=\"border:none\" />\n",
              "     <output id=\"result-1012d8a5-1071-40c8-8b25-35869eb139cc\">\n",
              "      Upload widget is only available when the cell has been executed in the\n",
              "      current browser session. Please rerun this cell to enable.\n",
              "      </output>\n",
              "      <script>// Copyright 2017 Google LLC\n",
              "//\n",
              "// Licensed under the Apache License, Version 2.0 (the \"License\");\n",
              "// you may not use this file except in compliance with the License.\n",
              "// You may obtain a copy of the License at\n",
              "//\n",
              "//      http://www.apache.org/licenses/LICENSE-2.0\n",
              "//\n",
              "// Unless required by applicable law or agreed to in writing, software\n",
              "// distributed under the License is distributed on an \"AS IS\" BASIS,\n",
              "// WITHOUT WARRANTIES OR CONDITIONS OF ANY KIND, either express or implied.\n",
              "// See the License for the specific language governing permissions and\n",
              "// limitations under the License.\n",
              "\n",
              "/**\n",
              " * @fileoverview Helpers for google.colab Python module.\n",
              " */\n",
              "(function(scope) {\n",
              "function span(text, styleAttributes = {}) {\n",
              "  const element = document.createElement('span');\n",
              "  element.textContent = text;\n",
              "  for (const key of Object.keys(styleAttributes)) {\n",
              "    element.style[key] = styleAttributes[key];\n",
              "  }\n",
              "  return element;\n",
              "}\n",
              "\n",
              "// Max number of bytes which will be uploaded at a time.\n",
              "const MAX_PAYLOAD_SIZE = 100 * 1024;\n",
              "\n",
              "function _uploadFiles(inputId, outputId) {\n",
              "  const steps = uploadFilesStep(inputId, outputId);\n",
              "  const outputElement = document.getElementById(outputId);\n",
              "  // Cache steps on the outputElement to make it available for the next call\n",
              "  // to uploadFilesContinue from Python.\n",
              "  outputElement.steps = steps;\n",
              "\n",
              "  return _uploadFilesContinue(outputId);\n",
              "}\n",
              "\n",
              "// This is roughly an async generator (not supported in the browser yet),\n",
              "// where there are multiple asynchronous steps and the Python side is going\n",
              "// to poll for completion of each step.\n",
              "// This uses a Promise to block the python side on completion of each step,\n",
              "// then passes the result of the previous step as the input to the next step.\n",
              "function _uploadFilesContinue(outputId) {\n",
              "  const outputElement = document.getElementById(outputId);\n",
              "  const steps = outputElement.steps;\n",
              "\n",
              "  const next = steps.next(outputElement.lastPromiseValue);\n",
              "  return Promise.resolve(next.value.promise).then((value) => {\n",
              "    // Cache the last promise value to make it available to the next\n",
              "    // step of the generator.\n",
              "    outputElement.lastPromiseValue = value;\n",
              "    return next.value.response;\n",
              "  });\n",
              "}\n",
              "\n",
              "/**\n",
              " * Generator function which is called between each async step of the upload\n",
              " * process.\n",
              " * @param {string} inputId Element ID of the input file picker element.\n",
              " * @param {string} outputId Element ID of the output display.\n",
              " * @return {!Iterable<!Object>} Iterable of next steps.\n",
              " */\n",
              "function* uploadFilesStep(inputId, outputId) {\n",
              "  const inputElement = document.getElementById(inputId);\n",
              "  inputElement.disabled = false;\n",
              "\n",
              "  const outputElement = document.getElementById(outputId);\n",
              "  outputElement.innerHTML = '';\n",
              "\n",
              "  const pickedPromise = new Promise((resolve) => {\n",
              "    inputElement.addEventListener('change', (e) => {\n",
              "      resolve(e.target.files);\n",
              "    });\n",
              "  });\n",
              "\n",
              "  const cancel = document.createElement('button');\n",
              "  inputElement.parentElement.appendChild(cancel);\n",
              "  cancel.textContent = 'Cancel upload';\n",
              "  const cancelPromise = new Promise((resolve) => {\n",
              "    cancel.onclick = () => {\n",
              "      resolve(null);\n",
              "    };\n",
              "  });\n",
              "\n",
              "  // Wait for the user to pick the files.\n",
              "  const files = yield {\n",
              "    promise: Promise.race([pickedPromise, cancelPromise]),\n",
              "    response: {\n",
              "      action: 'starting',\n",
              "    }\n",
              "  };\n",
              "\n",
              "  cancel.remove();\n",
              "\n",
              "  // Disable the input element since further picks are not allowed.\n",
              "  inputElement.disabled = true;\n",
              "\n",
              "  if (!files) {\n",
              "    return {\n",
              "      response: {\n",
              "        action: 'complete',\n",
              "      }\n",
              "    };\n",
              "  }\n",
              "\n",
              "  for (const file of files) {\n",
              "    const li = document.createElement('li');\n",
              "    li.append(span(file.name, {fontWeight: 'bold'}));\n",
              "    li.append(span(\n",
              "        `(${file.type || 'n/a'}) - ${file.size} bytes, ` +\n",
              "        `last modified: ${\n",
              "            file.lastModifiedDate ? file.lastModifiedDate.toLocaleDateString() :\n",
              "                                    'n/a'} - `));\n",
              "    const percent = span('0% done');\n",
              "    li.appendChild(percent);\n",
              "\n",
              "    outputElement.appendChild(li);\n",
              "\n",
              "    const fileDataPromise = new Promise((resolve) => {\n",
              "      const reader = new FileReader();\n",
              "      reader.onload = (e) => {\n",
              "        resolve(e.target.result);\n",
              "      };\n",
              "      reader.readAsArrayBuffer(file);\n",
              "    });\n",
              "    // Wait for the data to be ready.\n",
              "    let fileData = yield {\n",
              "      promise: fileDataPromise,\n",
              "      response: {\n",
              "        action: 'continue',\n",
              "      }\n",
              "    };\n",
              "\n",
              "    // Use a chunked sending to avoid message size limits. See b/62115660.\n",
              "    let position = 0;\n",
              "    do {\n",
              "      const length = Math.min(fileData.byteLength - position, MAX_PAYLOAD_SIZE);\n",
              "      const chunk = new Uint8Array(fileData, position, length);\n",
              "      position += length;\n",
              "\n",
              "      const base64 = btoa(String.fromCharCode.apply(null, chunk));\n",
              "      yield {\n",
              "        response: {\n",
              "          action: 'append',\n",
              "          file: file.name,\n",
              "          data: base64,\n",
              "        },\n",
              "      };\n",
              "\n",
              "      let percentDone = fileData.byteLength === 0 ?\n",
              "          100 :\n",
              "          Math.round((position / fileData.byteLength) * 100);\n",
              "      percent.textContent = `${percentDone}% done`;\n",
              "\n",
              "    } while (position < fileData.byteLength);\n",
              "  }\n",
              "\n",
              "  // All done.\n",
              "  yield {\n",
              "    response: {\n",
              "      action: 'complete',\n",
              "    }\n",
              "  };\n",
              "}\n",
              "\n",
              "scope.google = scope.google || {};\n",
              "scope.google.colab = scope.google.colab || {};\n",
              "scope.google.colab._files = {\n",
              "  _uploadFiles,\n",
              "  _uploadFilesContinue,\n",
              "};\n",
              "})(self);\n",
              "</script> "
            ]
          },
          "metadata": {}
        },
        {
          "output_type": "stream",
          "name": "stdout",
          "text": [
            "Saving 05energy.aac to 05energy.aac\n",
            "👍 upload file: 05energy.aac\n"
          ]
        }
      ]
    },
    {
      "cell_type": "code",
      "source": [
        "from pydub import audio_segment\n",
        "\n",
        "#Load the uploaded audio file\n",
        "audio = AudioSegment.from_file(audio_path)\n",
        "\n",
        "#convert to WAV format (16khz, mono)\n",
        "converted_wav = \"convert.wav\"\n",
        "audio = audio.set_channels(1).set_frame_rate(16000)\n",
        "audio.export(converted_wav, format=\"wav\")\n",
        "\n",
        "print(\"👍 Audio file converted to WAV format!\")"
      ],
      "metadata": {
        "colab": {
          "base_uri": "https://localhost:8080/"
        },
        "id": "pahRqSQKtjH9",
        "outputId": "4a7752f8-1bb0-47d3-89f5-389fc5cb9c63"
      },
      "execution_count": null,
      "outputs": [
        {
          "output_type": "stream",
          "name": "stdout",
          "text": [
            "👍 Audio file converted to WAV format!\n"
          ]
        }
      ]
    },
    {
      "cell_type": "code",
      "source": [
        "# Importing the speech_recognition\n",
        "#   library and assigning it a short name (sr).\n",
        "import speech_recognition as sr\n",
        "\n",
        "\n",
        "#creating an insurance of the Recognizer class.\n",
        "#  This object will be used to recognize and process speech\n",
        "#    from audio files.\n",
        "recognizer = sr.Recognizer()\n",
        "\n",
        "\n",
        "# using a 'with' statement to safely open\n",
        "#   and process the audio file.\n",
        "# 'converted_wav' is the path to the audio file\n",
        "#   we want to transcribe.\n",
        "# 'sr.AudioFile' loads the file so that\n",
        "#     it can be processed by the recognizer.\n",
        "with sr.AudioFile(converted_wav) as source:\n",
        "    print(\"🤙🤙 Processing audio... Please wait...\")\n",
        "\n",
        "\n",
        "# Recording the entire audio file\n",
        "#   for speech recognition.\n",
        "# The 'record' method captures the audio\n",
        "#   data from the file.\n",
        "#audio_data = recognizer.record(source)\n",
        "    audio_data = recognizer.record(source)\n",
        "\n",
        "\n",
        "\n",
        "#Now, we attemp to transcribe the recorded audio\n",
        "#   using Google's Speech Recognition API.\n",
        "try:\n",
        "    amharic_text = recognizer.recognize_google(audio_data, language=\"am-ET\")\n",
        "    #Printing the transcribed text\n",
        "    print(\"/n Recognized Amharic Text:\", amharic_text)\n",
        "\n",
        "#Handling network-related issues.\n",
        "#This error occurs if the request to\n",
        "#  Google's speech API fails.(eg, no internet or server issues.)\n",
        "except sr.UnknownValueError:\n",
        "    print(\"Google Speech Recognition could not understand the audio.\")\n",
        "\n",
        "except sr.RequestError:\n",
        "    print(\"⚠️ Could not request results from Google’s Speech API\")\n",
        "\n",
        "\n",
        "\n"
      ],
      "metadata": {
        "colab": {
          "base_uri": "https://localhost:8080/"
        },
        "id": "CvA1ASvIzTLE",
        "outputId": "8c3b3b73-11bf-4350-aa01-cc629bdc3269"
      },
      "execution_count": null,
      "outputs": [
        {
          "output_type": "stream",
          "name": "stdout",
          "text": [
            "🤙🤙 Processing audio... Please wait...\n",
            "/n Recognized Amharic Text: የሚታደሱ ጉልበቶች የቀጣይ ዘመን ጉልበት ምንጭ የሚታደስ ጉልበትሽ ጥቅሞች በሚታደስ ጉልበት አማካኝነት የኢነርጂ ነፃነት ማግኘት አዳዲስ የስራ ሃሳቦች መፍጠር ወደ የሚታደሱ የግንቦት ምንጮች ከተሞች ያደርጋቸዋል እንደ ሶላር የመሰሉ በመጠቀም የነርጂ በሰፈር ደረጃ እንዲመነጭ ማድረግ ጉርሻ የሚታደሱት ምንጮች የቤት ወጪ እስከ 7% መቀነስ ይችላሉ የማለት አንድ የመብራት ክፍያ ከነበረ ወደ ሶስት መቶ ብር\n"
          ]
        }
      ]
    }
  ]
}
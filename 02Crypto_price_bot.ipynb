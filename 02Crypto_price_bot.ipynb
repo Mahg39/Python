{
  "nbformat": 4,
  "nbformat_minor": 0,
  "metadata": {
    "colab": {
      "provenance": [],
      "authorship_tag": "ABX9TyMFo38QsCH5l6CY6P+gnzqW",
      "include_colab_link": true
    },
    "kernelspec": {
      "name": "python3",
      "display_name": "Python 3"
    },
    "language_info": {
      "name": "python"
    }
  },
  "cells": [
    {
      "cell_type": "markdown",
      "metadata": {
        "id": "view-in-github",
        "colab_type": "text"
      },
      "source": [
        "<a href=\"https://colab.research.google.com/github/Mahg39/Python/blob/main/02Crypto_price_bot.ipynb\" target=\"_parent\"><img src=\"https://colab.research.google.com/assets/colab-badge.svg\" alt=\"Open In Colab\"/></a>"
      ]
    },
    {
      "cell_type": "code",
      "source": [
        "\n",
        "import random #Module for generating random trading tips\n",
        "import yfinance as yf #Module for getting real-time forex prices from Yahoo finance\n",
        "\n",
        "\n",
        "\n",
        "#this is function to get real-time Crypto price\n",
        "def get_crypto_price(symbol):\n",
        "  \"\"\"\n",
        "\n",
        "\n",
        "  This function returns the real-time Crypto price for a given pair.\n",
        "  \"\"\"\n",
        "\n",
        "  try:\n",
        "    asset = yf.Ticker(symbol)  #connect to Yahoo Finance\n",
        "    price = asset.history(period=\"1d\")[\"Close\"].iloc[-1] #getting the latest closing price\n",
        "    return round(price, 2)  #Round price to 2 decimal places\n",
        "  except Exception as e:\n",
        "    return f\"Error fetching data: {e}\" #to error handling\n",
        "\n",
        "\n",
        "\n",
        "\n",
        "#this is function to get a random Forex tip\n",
        "def get_forex_tip():\n",
        "  \"\"\"\n",
        "  This function returns a random forex tip.\n",
        "  \"\"\"\n",
        "  tips = [\n",
        "      \"Risk management is key in trading!\",\n",
        "        \"Don't trade based on emotions.\",\n",
        "        \"Always backtest your strategies.\",\n",
        "        \"Use stop-loss to protect your trades.\",\n",
        "        \"Follow the trend, don't fight it.\"\n",
        "  ]\n",
        "  return random.choice(tips) #to select one randomly from the above tips list\n",
        "\n",
        "\n",
        "#The main chat bot\n",
        "def trading_chatbot():   #function defining\n",
        "  print(\"HI👋! i'm Crypto price teller bot, type any crypto to get price\")   #print welcome\n",
        "\n",
        "  while True:    #start infinite loop\n",
        "    user_input = input().lower()    #taking user question\n",
        "\n",
        "    if user_input == \"exit\":  #if the user types exit - end it!\n",
        "      print(\"bye!\")\n",
        "      break           #will exit the loop\n",
        "\n",
        "    elif \"gold\" in user_input:  # If user asks about Gold price\n",
        "            gold_price = get_crypto_price(\"GC=F\")  # getting real-time Gold price\n",
        "            print(f\"💬 Chatbot: Gold (XAUUSD) price is now ${gold_price}\")\n",
        "\n",
        "\n",
        "    elif \"bitcoin\" in user_input or \"btc\" in user_input:  # If user asks about Bitcoin price\n",
        "            bitcoin_price = get_crypto_price(\"BTC-USD\")  # getting real-time Bitcoin price\n",
        "            print(f\"💬 Chatbot: Bitcoin price is now ${bitcoin_price}\")\n",
        "\n",
        "    elif \"Etherium\" in user_input or \"eth\" in user_input:     # If user asks about Etherium price\n",
        "            etherium_price = get_crypto_price(\"ETH-USD\")  #getting real-time Etherium price\n",
        "            print(f\"💬 Chatbot: Etherium price is now ${etherium_price}\")\n",
        "\n",
        "    elif \"Doge\" in user_input or \"doge\" in user_input:  # If user asks about Doge price\n",
        "            doge_price = get_crypto_price(\"DOGE-USD\")  #getting real-time DOGE price\n",
        "            print(f\"💬 Chatbot: Doge price is now ${doge_price}\") #getting real-time Doge price\n",
        "\n",
        "    elif \"BNB\" in user_input or \"bnb\" in user_input:  # If user asks about BNB price\n",
        "            bnb_price = get_crypto_price(\"BNB-USD\")   #getting real-time BNB price\n",
        "            print(f\"💬 Chatbot: BNB price is now ${bnb_price}\")\n",
        "\n",
        "    elif \"Solana\" in user_input or \"sol\" in user_input:  # If user asks about Solana price\n",
        "            solana_price = get_crypto_price(\"SOL-USD\")  #getting real-time solana price\n",
        "            print(f\"💬 Chatbot: Solana price is now ${solana_price}\")\n",
        "\n",
        "    elif \"XRP\" in user_input or \"xrp\" in user_input:  # If user asks about XRP price\n",
        "            xrp_price = get_crypto_price(\"XRP-USD\")  #getting real-time XRP price\n",
        "            print(f\"💬 Chatbot: XRP price is now ${xrp_price}\")\n",
        "\n",
        "    elif \"tip\" in user_input:  #checking if the user need tip\n",
        "      print(\"💬 Chatbot:\", get_forex_tip())\n",
        "\n",
        "\n",
        "    else:      #if the user inputs about different topic\n",
        "      print(\"💬 Chatbot: I’m still learning! Try asking price about Gold, Bitcoin, Etherium, DOGE, BNB, Solana, and XRP or Trading Tips.\")\n",
        "\n",
        "\n",
        "\n",
        "\n",
        "\n",
        "trading_chatbot()  #calling the function to start the chatbot\n",
        "\n",
        "\n"
      ],
      "metadata": {
        "colab": {
          "base_uri": "https://localhost:8080/"
        },
        "id": "M0IHNYulwQmp",
        "outputId": "d2bda5cd-cdfb-4759-f938-35aede30ba77"
      },
      "execution_count": null,
      "outputs": [
        {
          "output_type": "stream",
          "name": "stdout",
          "text": [
            "HI👋! i'm Crypto price teller bot, type any crypto to get price\n"
          ]
        }
      ]
    }
  ]
}
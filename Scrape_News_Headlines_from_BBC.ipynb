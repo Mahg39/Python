{
  "nbformat": 4,
  "nbformat_minor": 0,
  "metadata": {
    "colab": {
      "provenance": [],
      "authorship_tag": "ABX9TyM839kjFm+gpwKVF2rxtANn"
    },
    "kernelspec": {
      "name": "python3",
      "display_name": "Python 3"
    },
    "language_info": {
      "name": "python"
    }
  },
  "cells": [
    {
      "cell_type": "code",
      "source": [
        "!pip install requests beautifulsoup4 pandas openpyxl"
      ],
      "metadata": {
        "colab": {
          "base_uri": "https://localhost:8080/"
        },
        "id": "0dWYN9qobp0f",
        "outputId": "df9158b8-ec1a-4a47-fe0b-f1124b115554"
      },
      "execution_count": 1,
      "outputs": [
        {
          "output_type": "stream",
          "name": "stdout",
          "text": [
            "Requirement already satisfied: requests in /usr/local/lib/python3.11/dist-packages (2.32.3)\n",
            "Requirement already satisfied: beautifulsoup4 in /usr/local/lib/python3.11/dist-packages (4.13.3)\n",
            "Requirement already satisfied: pandas in /usr/local/lib/python3.11/dist-packages (2.2.2)\n",
            "Requirement already satisfied: openpyxl in /usr/local/lib/python3.11/dist-packages (3.1.5)\n",
            "Requirement already satisfied: charset-normalizer<4,>=2 in /usr/local/lib/python3.11/dist-packages (from requests) (3.4.1)\n",
            "Requirement already satisfied: idna<4,>=2.5 in /usr/local/lib/python3.11/dist-packages (from requests) (3.10)\n",
            "Requirement already satisfied: urllib3<3,>=1.21.1 in /usr/local/lib/python3.11/dist-packages (from requests) (2.3.0)\n",
            "Requirement already satisfied: certifi>=2017.4.17 in /usr/local/lib/python3.11/dist-packages (from requests) (2025.1.31)\n",
            "Requirement already satisfied: soupsieve>1.2 in /usr/local/lib/python3.11/dist-packages (from beautifulsoup4) (2.6)\n",
            "Requirement already satisfied: typing-extensions>=4.0.0 in /usr/local/lib/python3.11/dist-packages (from beautifulsoup4) (4.13.0)\n",
            "Requirement already satisfied: numpy>=1.23.2 in /usr/local/lib/python3.11/dist-packages (from pandas) (2.0.2)\n",
            "Requirement already satisfied: python-dateutil>=2.8.2 in /usr/local/lib/python3.11/dist-packages (from pandas) (2.8.2)\n",
            "Requirement already satisfied: pytz>=2020.1 in /usr/local/lib/python3.11/dist-packages (from pandas) (2025.2)\n",
            "Requirement already satisfied: tzdata>=2022.7 in /usr/local/lib/python3.11/dist-packages (from pandas) (2025.2)\n",
            "Requirement already satisfied: et-xmlfile in /usr/local/lib/python3.11/dist-packages (from openpyxl) (2.0.0)\n",
            "Requirement already satisfied: six>=1.5 in /usr/local/lib/python3.11/dist-packages (from python-dateutil>=2.8.2->pandas) (1.17.0)\n"
          ]
        }
      ]
    },
    {
      "cell_type": "code",
      "source": [
        "import requests   # Import the requests library to fetch web content\n",
        "from bs4 import BeautifulSoup   # Import BeautifulSoup for HTML parsing\n",
        "import pandas as pd  # Import pandas for data manipulation and Excel handling\n",
        "\n",
        "\n",
        "# Fetch the HTML of the BBC homepage\n",
        "url = \"https://www.bbc.com\" # The URL of the website to scrape\n",
        "response = requests.get(url)  # Fetch the page content using the GET method\n",
        "\n",
        "# Checking if the request was successful\n",
        "if response.status_code == 200:\n",
        "    print(\"Successfully fetched the webpage.\")\n",
        "else:\n",
        "    print(f\"Failed to retrieve the webpage. Status code: {response.status_code}\")\n",
        "\n",
        "soup = BeautifulSoup(response.content, 'html.parser') # Parse the HTML content using BeautifulSoup\n",
        "\n",
        "\n",
        "headlines = soup.find_all('a', class_='gs-c-promo-heading') # Find all <a> tags with the class 'gs-c-promo-heading'\n",
        "print(f\"Found {len(headlines)} headlines!\")\n",
        "\n",
        "headlines_list = []  # Initialize an empty list to store our headlines and URLs\n",
        "\n",
        "for headline in headlines:  # Loop through each headline in the 'headline' list\n",
        "    headline_text = headline.get_text() # Extract the text of the headline\n",
        "    headline_url = headline.get('href') # Extract the URL (href attribute) of the link\n",
        "\n",
        "    # If the URL starts with a '/', it is a relative URL\n",
        "    if headline_url.startswith(\"/\"):\n",
        "        headline_url = \"https://www.bbc.com\" + headline_url # Fix the relative URL by pretending the base URL\n",
        "\n",
        "    # Add the headline and its URL to our list\n",
        "    headlines_list.append({\"headline\": headline_text, \"url\": headline_url})\n",
        "\n",
        "# Check if any headlines were added to the list\n",
        "print(f\"Extracted {len(headlines_list)} headlines!\")\n",
        "\n",
        "df = pd.DataFrame(headlines_list) # Convert the list of dictionaries into a pandas DataFrame\n",
        "print(df.head())\n",
        "\n",
        "df.to_excel('bbc_headlines.xlsx', index=False)  # save the DataFrame to an Excel file\n",
        "print(\"Data saved to 'bbc_headlines.xlsx' successfully!\")\n",
        "# 'bbc_headlines.xlsx' is the name of the file where the data will be saved.\n",
        "# 'index=False' means we don't want to save the index (row numbers) in the Excel file.\n",
        "\n",
        "\n",
        "\n",
        "\n",
        "\n"
      ],
      "metadata": {
        "id": "jby_01TVc-kV",
        "colab": {
          "base_uri": "https://localhost:8080/"
        },
        "outputId": "c5752be0-6671-450f-d5b7-6c6f03a7a3ed"
      },
      "execution_count": 4,
      "outputs": [
        {
          "output_type": "stream",
          "name": "stdout",
          "text": [
            "Successfully fetched the webpage.\n",
            "Found 0 headlines!\n",
            "Extracted 0 headlines!\n",
            "Empty DataFrame\n",
            "Columns: []\n",
            "Index: []\n",
            "Data saved to 'bbc_headlines.xlsx' successfully!\n"
          ]
        }
      ]
    }
  ]
}